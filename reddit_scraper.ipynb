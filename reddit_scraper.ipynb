{
 "cells": [
  {
   "cell_type": "markdown",
   "metadata": {},
   "source": [
    "##Reddit Scraper Utility\n",
    "\n",
    "The main driver of this scraper file is the python connector to the Reddit API, coded as praw (Python Reddit API Wrapper).\n",
    "\n",
    "PIL is the Python Imaging Library and will be used to "
   ]
  },
  {
   "cell_type": "code",
   "execution_count": 10,
   "metadata": {},
   "outputs": [],
   "source": [
    "import praw\n",
    "import os\n",
    "import sys\n",
    "from PIL import Image\n",
    "import urllib.request\n",
    "import secret"
   ]
  },
  {
   "cell_type": "code",
   "execution_count": 11,
   "metadata": {},
   "outputs": [],
   "source": [
    "reddit = praw.Reddit(client_id=secret.client_id, client_secret=secret.client_secret, user_agent=secret.user_agent)"
   ]
  },
  {
   "cell_type": "code",
   "execution_count": 13,
   "metadata": {},
   "outputs": [],
   "source": [
    "number_to_scrape = 550\n",
    "\n",
    "t_posts = reddit.subreddit('Sneakers').hot(limit=number_to_scrape)\n",
    "for post in hot_posts:\n",
    "    print(post.title)"
   ]
  },
  {
   "cell_type": "code",
   "execution_count": 4,
   "metadata": {},
   "outputs": [
    {
     "output_type": "execute_result",
     "data": {
      "text/plain": "                                               title  score      id subreddit  \\\n0                    New Releases Thread 5/11 - 5/17     16  ghi2qv  Sneakers   \n1          Not Yeezys or a Travis Scott collab 🤷🏻‍♂️   3918  ghod2g  Sneakers   \n2  Missed out on Royal toes this weekend, so I pu...    585  ghzpfa  Sneakers   \n3  Not for the faint of heart. Proceed with cauti...    472  ghzs65  Sneakers   \n4  Custom hand-embroidered Keith Haring Converse ...    339  gi11mf  Sneakers   \n\n                                                 url  num_comments  \\\n0  https://www.reddit.com/r/Sneakers/comments/ghi...           267   \n1                https://i.redd.it/ag0j2zmt95y41.jpg           181   \n2                https://i.redd.it/fppna4lw58y41.jpg            36   \n3                https://i.redd.it/rhw2xv1p68y41.jpg            75   \n4                https://i.redd.it/vz5lie2wj8y41.jpg            21   \n\n                                                body       created  \n0  Please post all your questions, pics and comme...  1.589206e+09  \n1                                                     1.589235e+09  \n2                                                     1.589270e+09  \n3                                                     1.589271e+09  \n4                                                     1.589275e+09  ",
      "text/html": "<div>\n<style scoped>\n    .dataframe tbody tr th:only-of-type {\n        vertical-align: middle;\n    }\n\n    .dataframe tbody tr th {\n        vertical-align: top;\n    }\n\n    .dataframe thead th {\n        text-align: right;\n    }\n</style>\n<table border=\"1\" class=\"dataframe\">\n  <thead>\n    <tr style=\"text-align: right;\">\n      <th></th>\n      <th>title</th>\n      <th>score</th>\n      <th>id</th>\n      <th>subreddit</th>\n      <th>url</th>\n      <th>num_comments</th>\n      <th>body</th>\n      <th>created</th>\n    </tr>\n  </thead>\n  <tbody>\n    <tr>\n      <th>0</th>\n      <td>New Releases Thread 5/11 - 5/17</td>\n      <td>16</td>\n      <td>ghi2qv</td>\n      <td>Sneakers</td>\n      <td>https://www.reddit.com/r/Sneakers/comments/ghi...</td>\n      <td>267</td>\n      <td>Please post all your questions, pics and comme...</td>\n      <td>1.589206e+09</td>\n    </tr>\n    <tr>\n      <th>1</th>\n      <td>Not Yeezys or a Travis Scott collab 🤷🏻‍♂️</td>\n      <td>3918</td>\n      <td>ghod2g</td>\n      <td>Sneakers</td>\n      <td>https://i.redd.it/ag0j2zmt95y41.jpg</td>\n      <td>181</td>\n      <td></td>\n      <td>1.589235e+09</td>\n    </tr>\n    <tr>\n      <th>2</th>\n      <td>Missed out on Royal toes this weekend, so I pu...</td>\n      <td>585</td>\n      <td>ghzpfa</td>\n      <td>Sneakers</td>\n      <td>https://i.redd.it/fppna4lw58y41.jpg</td>\n      <td>36</td>\n      <td></td>\n      <td>1.589270e+09</td>\n    </tr>\n    <tr>\n      <th>3</th>\n      <td>Not for the faint of heart. Proceed with cauti...</td>\n      <td>472</td>\n      <td>ghzs65</td>\n      <td>Sneakers</td>\n      <td>https://i.redd.it/rhw2xv1p68y41.jpg</td>\n      <td>75</td>\n      <td></td>\n      <td>1.589271e+09</td>\n    </tr>\n    <tr>\n      <th>4</th>\n      <td>Custom hand-embroidered Keith Haring Converse ...</td>\n      <td>339</td>\n      <td>gi11mf</td>\n      <td>Sneakers</td>\n      <td>https://i.redd.it/vz5lie2wj8y41.jpg</td>\n      <td>21</td>\n      <td></td>\n      <td>1.589275e+09</td>\n    </tr>\n  </tbody>\n</table>\n</div>"
     },
     "metadata": {},
     "execution_count": 4
    }
   ],
   "source": [
    "import pandas as pd\n",
    "posts = []\n",
    "sneakers_subreddit = reddit.subreddit('Sneakers')\n",
    "for post in sneakers_subreddit.hot(limit=number_to_scrape):\n",
    "    posts.append([post.title, post.score, post.id, post.subreddit, post.url, post.num_comments, post.selftext, post.created])\n",
    "posts = pd.DataFrame(posts,columns=['title', 'score', 'id', 'subreddit', 'url', 'num_comments', 'body', 'created'])\n",
    "posts.head(5)"
   ]
  },
  {
   "cell_type": "code",
   "execution_count": 5,
   "metadata": {},
   "outputs": [],
   "source": [
    "# scope of the project: why is this important? could we use this to begin to see which brands and trends are on the come up?\n",
    "# drop all non-jpg rows?\n",
    "# how to link data to upvotes\n",
    "# convert date column to a readable datetime format\n",
    "# Brands to decipher: Nike, Adidas, New_Balance\n",
    "# See if I can scrape from a certain time frame\n",
    "# ^ check to see if Reddit is OK with me querying this much data"
   ]
  },
  {
   "cell_type": "code",
   "execution_count": 6,
   "metadata": {},
   "outputs": [],
   "source": [
    "# iterate through all queried posts and download the corresponding image as a jpg file\n",
    "\n",
    "for i in range(1, len(posts['url'])):\n",
    "    try:\n",
    "        urllib.request.urlretrieve(posts['url'][i], \"raw_data/0000\"+str(i)+\".jpg\")\n",
    "    except:\n",
    "        pass"
   ]
  },
  {
   "cell_type": "code",
   "execution_count": 7,
   "metadata": {},
   "outputs": [],
   "source": [
    "# resize all of the downloaded images for better scaling effects for the downstream convolutional neural network\n",
    "\n",
    "# https://stackoverflow.com/questions/21517879/python-pil-resize-all-images-in-a-folder\n",
    "# https://kishstats.com/python/2018/04/27/bulk-image-resizing-python.html\n",
    "# https://stackoverflow.com/questions/22282760/filenotfounderror-errno-2-no-such-file-or-directory\n",
    "\n",
    "path = \"/Users/Oliver/GDrive/Data_Scientist_Career/Projects/Hype/raw_data\"\n",
    "\n",
    "for image in os.listdir(path):\n",
    "    try:\n",
    "        current_img = Image.open(path+\"/\"+image)\n",
    "        f, e = os.path.splitext(image)\n",
    "        resize_img = current_img.resize((200,200), Image.ANTIALIAS)\n",
    "        resize_img.save('resized_data/' + f +'-resized.jpg', 'JPEG', quality = 90)\n",
    "    except:\n",
    "        pass"
   ]
  }
 ],
 "metadata": {
  "language_info": {
   "codemirror_mode": {
    "name": "ipython",
    "version": 2
   },
   "file_extension": ".py",
   "mimetype": "text/x-python",
   "name": "python",
   "nbconvert_exporter": "python",
   "pygments_lexer": "ipython2",
   "version": "3.7.7-final"
  },
  "orig_nbformat": 2,
  "kernelspec": {
   "name": "python37764bithypeconda90646dda1eb242bc89cc5427358ff6c8",
   "display_name": "Python 3.7.7 64-bit ('hype': conda)"
  }
 },
 "nbformat": 4,
 "nbformat_minor": 2
}