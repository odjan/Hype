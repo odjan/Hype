{
 "cells": [
  {
   "cell_type": "code",
   "execution_count": 1,
   "metadata": {},
   "outputs": [],
   "source": [
    "import praw\n",
    "# import posixpath\n",
    "# import urllib.parse\n",
    "# import requests"
   ]
  },
  {
   "cell_type": "code",
   "execution_count": 2,
   "metadata": {},
   "outputs": [],
   "source": [
    "reddit = praw.Reddit(client_id='YURuUMecfcUDaQ', client_secret='nOJD5agHsie1Z8QL1xRAeRO0rGA', user_agent='HypeOJ')"
   ]
  },
  {
   "cell_type": "code",
   "execution_count": 3,
   "metadata": {},
   "outputs": [
    {
     "output_type": "stream",
     "name": "stdout",
     "text": "New Releases Thread 5/4 - 5/10\nMMW x FOG\n🎂 Nike Sacai x LD Waffle on my 24th birthday! 🎂\nReverse Skunk 69/420 has surfaced\nFinally got the new laces in 😊\nGraduated w my Grails ✌️👨‍🎓\nSomething special on foot today. Original 1989 Air jordan 4 Black Cement. A amazing shoe and one of my favorites.\nHalf-Cold Half-Hot\nMichael Jordan - 1984 ROTY\nPosted this in another sub to get enough karma to post here! Here's my current Jordan collection (with lots of room grow). Which one's your favorite?\n"
    }
   ],
   "source": [
    "hot_posts = reddit.subreddit('Sneakers').hot(limit=10)\n",
    "for post in hot_posts:\n",
    "    print(post.title)"
   ]
  },
  {
   "cell_type": "code",
   "execution_count": 25,
   "metadata": {},
   "outputs": [
    {
     "output_type": "execute_result",
     "data": {
      "text/plain": "                                                title  score      id  \\\n0                      New Releases Thread 5/4 - 5/10     29  gd65b6   \n1                                           MMW x FOG   3068  gfvpn1   \n2     🎂 Nike Sacai x LD Waffle on my 24th birthday! 🎂    690  gfv468   \n3                   Reverse Skunk 69/420 has surfaced    361  gfyjq5   \n4                      Finally got the new laces in 😊    736  gftnqw   \n5                         Graduated w my Grails ✌️👨‍🎓    254  gfxrrc   \n6   Posted this in another sub to get enough karma...     62  gg4yuy   \n7                                  Half-Cold Half-Hot     74  gg3zlm   \n8   Something special on foot today. Original 1989...    299  gfv8v4   \n9                          Michael Jordan - 1984 ROTY    129  gg005n   \n10          Wearing this for my baby's gender reveal!     99  gg12o8   \n11                                 Wear your kicks :)     45  gg4xge   \n12                                Saw this on Twitter     39  gg5ut8   \n13  Had to break out the Racer blues for a couples...    144  gfximo   \n14  My wife finally unDS her Strangelove SBs I got...     61  gg30ds   \n15                                     Duality of man   3873  gfi119   \n16                                        Mucho Gusto     61  gg1w9r   \n17                                       Mail Call 😎🖤     83  gg08ig   \n18                       My subtle Pair of Stan Smith     45  gg3z7h   \n19                                               DOOM     53  gg2i5r   \n20                                 My fit of May 7th!    325  gfrknh   \n21                                    Summer Rotation     32  gg4w0m   \n22  These Jordan 1 Bred Toe are one of my favorite...    114  gfx3ai   \n23  Good luck tomorrow! I hope the sneaker gods sh...     21  gg6bw4   \n24  Works caught up. Aced my networking midterm. M...     47  gg22jx   \n25      Really hoping they release more 750s one day.    231  gfslj4   \n26                     Court Purple ! White lace swap     45  gg24bh   \n27                   I always appreciate cool insoles     52  gg1aij   \n28                   Favorite Jordan 1. What's yours?    160  gftsp5   \n29              THE WEEK IS LONG THE SILVER CAT FEEDS     38  gg2m7a   \n30     Picked up these beauties today for a cool $100     26  gg4dnu   \n31     So today was supposed to be my graduation🤷🏽‍♂️     71  gfxs22   \n32                      Continuing my week of jordans    171  gfslep   \n33  My Fiancé wouldn’t stop coming in the office w...     90  gfw4f5   \n34      Nike AF1 shadow spruce aura (pistachio frost)     31  gg2y3c   \n35                    New Addition. Love a restock!!!    197  gfrk0m   \n36  Just came in today ;) Still waiting of Fear of...     51  gfz301   \n37                                           Tiffany.     96  gfv0hq   \n38                                                 🐼🐦     27  gg2981   \n39                           stray rats x new balance     23  gg39tv   \n40                            Don’t wear these enough    110  gftrqc   \n41  My Collection One Shoe A Day: 2011 Black Cement 3     17  gg4ubt   \n42                              Sub-inspired Purchase     40  gfzwoi   \n43  After eight weeks, the line between “working f...     68  gfx3yt   \n44                      RIP to my “ rainy day funds “     26  gg2zuj   \n45     the royal toes we asked for versus what we got     74  gfvlsr   \n46                              Done Four the Weekend     20  gg3vn3   \n47           Can’t wait to wear these outside again 🌞     60  gfwfia   \n48                                      Jordan x Dior     11  gg6kuh   \n49                                   Yin, Yang, Yeezy     10  gg6y06   \n\n   subreddit                                                url  num_comments  \\\n0   Sneakers  https://www.reddit.com/r/Sneakers/comments/gd6...          1605   \n1   Sneakers                https://i.redd.it/z10bs05jckx41.jpg            94   \n2   Sneakers                https://i.redd.it/a7llf5kl6kx41.jpg            64   \n3   Sneakers                https://i.redd.it/4zt846453lx41.jpg            34   \n4   Sneakers                https://i.redd.it/qwp04xvzqjx41.jpg            33   \n5   Sneakers                https://i.redd.it/o9tdn1a2wkx41.jpg            17   \n6   Sneakers                https://i.redd.it/ycrhu7cgtmx41.jpg            17   \n7   Sneakers                https://i.redd.it/6uq7ja10jmx41.jpg             5   \n8   Sneakers                https://i.redd.it/otabzd7y7kx41.jpg            35   \n9   Sneakers                https://i.redd.it/m9ti2iifglx41.jpg             5   \n10  Sneakers                    https://i.imgur.com/tpxfNOl.jpg             6   \n11  Sneakers                    https://i.imgur.com/fRfXMm8.jpg             8   \n12  Sneakers                https://i.redd.it/aetwc8se3nx41.jpg             5   \n13  Sneakers                https://i.redd.it/de7dwkbqtkx41.jpg            12   \n14  Sneakers                    https://v.redd.it/wvccus1r8mx41            11   \n15  Sneakers                https://i.redd.it/duzb3tq5jfx41.jpg           113   \n16  Sneakers                https://i.redd.it/pylervl1ylx41.jpg             9   \n17  Sneakers                https://i.redd.it/gcs33usdilx41.jpg             9   \n18  Sneakers                https://i.redd.it/lmm5ol3vimx41.jpg             5   \n19  Sneakers                https://i.redd.it/jw0m3iip3mx41.jpg            11   \n20  Sneakers                https://i.redd.it/4rmctwp52jx41.jpg            58   \n21  Sneakers                https://i.redd.it/iq4mn3bhsmx41.jpg             0   \n22  Sneakers                https://i.redd.it/zqri5xzppkx41.jpg            10   \n23  Sneakers                https://i.redd.it/7xdusdyz8nx41.jpg             6   \n24  Sneakers                https://i.redd.it/dznm8ibczlx41.jpg             0   \n25  Sneakers                https://i.redd.it/pmgn3g47fjx41.jpg            45   \n26  Sneakers                https://i.redd.it/mszh7a420mx41.jpg             7   \n27  Sneakers                https://i.redd.it/lf6078tbslx41.jpg             7   \n28  Sneakers                          https://imgur.com/r54oFIC            41   \n29  Sneakers                https://i.redd.it/vmbuvhpz4mx41.jpg             4   \n30  Sneakers                    https://i.imgur.com/eXGENYl.jpg             3   \n31  Sneakers                https://i.redd.it/wn71j416wkx41.jpg            16   \n32  Sneakers                https://i.redd.it/tf5772t5fjx41.jpg            38   \n33  Sneakers                https://i.redd.it/ywnqwmmfgkx41.jpg            11   \n34  Sneakers                https://i.redd.it/911z54n98mx41.jpg             1   \n35  Sneakers                https://i.redd.it/421b70rw1jx41.jpg            35   \n36  Sneakers                    https://i.imgur.com/il5ZxMs.jpg             7   \n37  Sneakers                https://i.redd.it/ll401j0l5kx41.jpg            13   \n38  Sneakers                https://i.redd.it/fflt3plf1mx41.jpg             3   \n39  Sneakers                https://i.redd.it/i4he7bbmbmx41.jpg             9   \n40  Sneakers                https://i.redd.it/ca5w06tprjx41.jpg             3   \n41  Sneakers                https://i.redd.it/njmedzk0smx41.jpg             1   \n42  Sneakers                https://i.redd.it/drlr34feflx41.jpg            10   \n43  Sneakers                https://i.redd.it/pg4m56avpkx41.jpg            14   \n44  Sneakers                https://i.redd.it/51evgszr8mx41.jpg             1   \n45  Sneakers                https://i.redd.it/x6pf22iibkx41.jpg            51   \n46  Sneakers                https://i.redd.it/lmdvvc1vhmx41.jpg             1   \n47  Sneakers                https://i.redd.it/pjoomnkfjkx41.jpg             4   \n48  Sneakers                https://i.redd.it/4ah4lmhwbnx41.jpg             1   \n49  Sneakers                          https://imgur.com/PtXTBmJ             0   \n\n                                                 body       created  \n0   Please post all your questions, pics and comme...  1.588601e+09  \n1                                                      1.588982e+09  \n2                                                      1.588980e+09  \n3                                                      1.588991e+09  \n4                                                      1.588975e+09  \n5                                                      1.588989e+09  \n6                                                      1.589012e+09  \n7                                                      1.589009e+09  \n8                                                      1.588981e+09  \n9                                                      1.588996e+09  \n10                                                     1.588999e+09  \n11                                                     1.589012e+09  \n12                                                     1.589015e+09  \n13                                                     1.588988e+09  \n14                                                     1.589005e+09  \n15                                                     1.588924e+09  \n16                                                     1.589001e+09  \n17                                                     1.588996e+09  \n18                                                     1.589008e+09  \n19                                                     1.589003e+09  \n20                                                     1.588967e+09  \n21                                                     1.589012e+09  \n22                                                     1.588987e+09  \n23                                                     1.589017e+09  \n24                                                     1.589002e+09  \n25                                                     1.588971e+09  \n26                                                     1.589002e+09  \n27                                                     1.589000e+09  \n28                                                     1.588975e+09  \n29                                                     1.589004e+09  \n30                                                     1.589010e+09  \n31                                                     1.588989e+09  \n32                                                     1.588971e+09  \n33                                                     1.588983e+09  \n34                                                     1.589005e+09  \n35                                                     1.588966e+09  \n36                                                     1.588993e+09  \n37                                                     1.588980e+09  \n38                                                     1.589003e+09  \n39                                                     1.589006e+09  \n40                                                     1.588975e+09  \n41                                                     1.589012e+09  \n42                                                     1.588995e+09  \n43                                                     1.588987e+09  \n44                                                     1.589005e+09  \n45                                                     1.588982e+09  \n46                                                     1.589008e+09  \n47                                                     1.588984e+09  \n48                                                     1.589018e+09  \n49                                                     1.589020e+09  ",
      "text/html": "<div>\n<style scoped>\n    .dataframe tbody tr th:only-of-type {\n        vertical-align: middle;\n    }\n\n    .dataframe tbody tr th {\n        vertical-align: top;\n    }\n\n    .dataframe thead th {\n        text-align: right;\n    }\n</style>\n<table border=\"1\" class=\"dataframe\">\n  <thead>\n    <tr style=\"text-align: right;\">\n      <th></th>\n      <th>title</th>\n      <th>score</th>\n      <th>id</th>\n      <th>subreddit</th>\n      <th>url</th>\n      <th>num_comments</th>\n      <th>body</th>\n      <th>created</th>\n    </tr>\n  </thead>\n  <tbody>\n    <tr>\n      <th>0</th>\n      <td>New Releases Thread 5/4 - 5/10</td>\n      <td>29</td>\n      <td>gd65b6</td>\n      <td>Sneakers</td>\n      <td>https://www.reddit.com/r/Sneakers/comments/gd6...</td>\n      <td>1605</td>\n      <td>Please post all your questions, pics and comme...</td>\n      <td>1.588601e+09</td>\n    </tr>\n    <tr>\n      <th>1</th>\n      <td>MMW x FOG</td>\n      <td>3068</td>\n      <td>gfvpn1</td>\n      <td>Sneakers</td>\n      <td>https://i.redd.it/z10bs05jckx41.jpg</td>\n      <td>94</td>\n      <td></td>\n      <td>1.588982e+09</td>\n    </tr>\n    <tr>\n      <th>2</th>\n      <td>🎂 Nike Sacai x LD Waffle on my 24th birthday! 🎂</td>\n      <td>690</td>\n      <td>gfv468</td>\n      <td>Sneakers</td>\n      <td>https://i.redd.it/a7llf5kl6kx41.jpg</td>\n      <td>64</td>\n      <td></td>\n      <td>1.588980e+09</td>\n    </tr>\n    <tr>\n      <th>3</th>\n      <td>Reverse Skunk 69/420 has surfaced</td>\n      <td>361</td>\n      <td>gfyjq5</td>\n      <td>Sneakers</td>\n      <td>https://i.redd.it/4zt846453lx41.jpg</td>\n      <td>34</td>\n      <td></td>\n      <td>1.588991e+09</td>\n    </tr>\n    <tr>\n      <th>4</th>\n      <td>Finally got the new laces in 😊</td>\n      <td>736</td>\n      <td>gftnqw</td>\n      <td>Sneakers</td>\n      <td>https://i.redd.it/qwp04xvzqjx41.jpg</td>\n      <td>33</td>\n      <td></td>\n      <td>1.588975e+09</td>\n    </tr>\n    <tr>\n      <th>5</th>\n      <td>Graduated w my Grails ✌️👨‍🎓</td>\n      <td>254</td>\n      <td>gfxrrc</td>\n      <td>Sneakers</td>\n      <td>https://i.redd.it/o9tdn1a2wkx41.jpg</td>\n      <td>17</td>\n      <td></td>\n      <td>1.588989e+09</td>\n    </tr>\n    <tr>\n      <th>6</th>\n      <td>Posted this in another sub to get enough karma...</td>\n      <td>62</td>\n      <td>gg4yuy</td>\n      <td>Sneakers</td>\n      <td>https://i.redd.it/ycrhu7cgtmx41.jpg</td>\n      <td>17</td>\n      <td></td>\n      <td>1.589012e+09</td>\n    </tr>\n    <tr>\n      <th>7</th>\n      <td>Half-Cold Half-Hot</td>\n      <td>74</td>\n      <td>gg3zlm</td>\n      <td>Sneakers</td>\n      <td>https://i.redd.it/6uq7ja10jmx41.jpg</td>\n      <td>5</td>\n      <td></td>\n      <td>1.589009e+09</td>\n    </tr>\n    <tr>\n      <th>8</th>\n      <td>Something special on foot today. Original 1989...</td>\n      <td>299</td>\n      <td>gfv8v4</td>\n      <td>Sneakers</td>\n      <td>https://i.redd.it/otabzd7y7kx41.jpg</td>\n      <td>35</td>\n      <td></td>\n      <td>1.588981e+09</td>\n    </tr>\n    <tr>\n      <th>9</th>\n      <td>Michael Jordan - 1984 ROTY</td>\n      <td>129</td>\n      <td>gg005n</td>\n      <td>Sneakers</td>\n      <td>https://i.redd.it/m9ti2iifglx41.jpg</td>\n      <td>5</td>\n      <td></td>\n      <td>1.588996e+09</td>\n    </tr>\n    <tr>\n      <th>10</th>\n      <td>Wearing this for my baby's gender reveal!</td>\n      <td>99</td>\n      <td>gg12o8</td>\n      <td>Sneakers</td>\n      <td>https://i.imgur.com/tpxfNOl.jpg</td>\n      <td>6</td>\n      <td></td>\n      <td>1.588999e+09</td>\n    </tr>\n    <tr>\n      <th>11</th>\n      <td>Wear your kicks :)</td>\n      <td>45</td>\n      <td>gg4xge</td>\n      <td>Sneakers</td>\n      <td>https://i.imgur.com/fRfXMm8.jpg</td>\n      <td>8</td>\n      <td></td>\n      <td>1.589012e+09</td>\n    </tr>\n    <tr>\n      <th>12</th>\n      <td>Saw this on Twitter</td>\n      <td>39</td>\n      <td>gg5ut8</td>\n      <td>Sneakers</td>\n      <td>https://i.redd.it/aetwc8se3nx41.jpg</td>\n      <td>5</td>\n      <td></td>\n      <td>1.589015e+09</td>\n    </tr>\n    <tr>\n      <th>13</th>\n      <td>Had to break out the Racer blues for a couples...</td>\n      <td>144</td>\n      <td>gfximo</td>\n      <td>Sneakers</td>\n      <td>https://i.redd.it/de7dwkbqtkx41.jpg</td>\n      <td>12</td>\n      <td></td>\n      <td>1.588988e+09</td>\n    </tr>\n    <tr>\n      <th>14</th>\n      <td>My wife finally unDS her Strangelove SBs I got...</td>\n      <td>61</td>\n      <td>gg30ds</td>\n      <td>Sneakers</td>\n      <td>https://v.redd.it/wvccus1r8mx41</td>\n      <td>11</td>\n      <td></td>\n      <td>1.589005e+09</td>\n    </tr>\n    <tr>\n      <th>15</th>\n      <td>Duality of man</td>\n      <td>3873</td>\n      <td>gfi119</td>\n      <td>Sneakers</td>\n      <td>https://i.redd.it/duzb3tq5jfx41.jpg</td>\n      <td>113</td>\n      <td></td>\n      <td>1.588924e+09</td>\n    </tr>\n    <tr>\n      <th>16</th>\n      <td>Mucho Gusto</td>\n      <td>61</td>\n      <td>gg1w9r</td>\n      <td>Sneakers</td>\n      <td>https://i.redd.it/pylervl1ylx41.jpg</td>\n      <td>9</td>\n      <td></td>\n      <td>1.589001e+09</td>\n    </tr>\n    <tr>\n      <th>17</th>\n      <td>Mail Call 😎🖤</td>\n      <td>83</td>\n      <td>gg08ig</td>\n      <td>Sneakers</td>\n      <td>https://i.redd.it/gcs33usdilx41.jpg</td>\n      <td>9</td>\n      <td></td>\n      <td>1.588996e+09</td>\n    </tr>\n    <tr>\n      <th>18</th>\n      <td>My subtle Pair of Stan Smith</td>\n      <td>45</td>\n      <td>gg3z7h</td>\n      <td>Sneakers</td>\n      <td>https://i.redd.it/lmm5ol3vimx41.jpg</td>\n      <td>5</td>\n      <td></td>\n      <td>1.589008e+09</td>\n    </tr>\n    <tr>\n      <th>19</th>\n      <td>DOOM</td>\n      <td>53</td>\n      <td>gg2i5r</td>\n      <td>Sneakers</td>\n      <td>https://i.redd.it/jw0m3iip3mx41.jpg</td>\n      <td>11</td>\n      <td></td>\n      <td>1.589003e+09</td>\n    </tr>\n    <tr>\n      <th>20</th>\n      <td>My fit of May 7th!</td>\n      <td>325</td>\n      <td>gfrknh</td>\n      <td>Sneakers</td>\n      <td>https://i.redd.it/4rmctwp52jx41.jpg</td>\n      <td>58</td>\n      <td></td>\n      <td>1.588967e+09</td>\n    </tr>\n    <tr>\n      <th>21</th>\n      <td>Summer Rotation</td>\n      <td>32</td>\n      <td>gg4w0m</td>\n      <td>Sneakers</td>\n      <td>https://i.redd.it/iq4mn3bhsmx41.jpg</td>\n      <td>0</td>\n      <td></td>\n      <td>1.589012e+09</td>\n    </tr>\n    <tr>\n      <th>22</th>\n      <td>These Jordan 1 Bred Toe are one of my favorite...</td>\n      <td>114</td>\n      <td>gfx3ai</td>\n      <td>Sneakers</td>\n      <td>https://i.redd.it/zqri5xzppkx41.jpg</td>\n      <td>10</td>\n      <td></td>\n      <td>1.588987e+09</td>\n    </tr>\n    <tr>\n      <th>23</th>\n      <td>Good luck tomorrow! I hope the sneaker gods sh...</td>\n      <td>21</td>\n      <td>gg6bw4</td>\n      <td>Sneakers</td>\n      <td>https://i.redd.it/7xdusdyz8nx41.jpg</td>\n      <td>6</td>\n      <td></td>\n      <td>1.589017e+09</td>\n    </tr>\n    <tr>\n      <th>24</th>\n      <td>Works caught up. Aced my networking midterm. M...</td>\n      <td>47</td>\n      <td>gg22jx</td>\n      <td>Sneakers</td>\n      <td>https://i.redd.it/dznm8ibczlx41.jpg</td>\n      <td>0</td>\n      <td></td>\n      <td>1.589002e+09</td>\n    </tr>\n    <tr>\n      <th>25</th>\n      <td>Really hoping they release more 750s one day.</td>\n      <td>231</td>\n      <td>gfslj4</td>\n      <td>Sneakers</td>\n      <td>https://i.redd.it/pmgn3g47fjx41.jpg</td>\n      <td>45</td>\n      <td></td>\n      <td>1.588971e+09</td>\n    </tr>\n    <tr>\n      <th>26</th>\n      <td>Court Purple ! White lace swap</td>\n      <td>45</td>\n      <td>gg24bh</td>\n      <td>Sneakers</td>\n      <td>https://i.redd.it/mszh7a420mx41.jpg</td>\n      <td>7</td>\n      <td></td>\n      <td>1.589002e+09</td>\n    </tr>\n    <tr>\n      <th>27</th>\n      <td>I always appreciate cool insoles</td>\n      <td>52</td>\n      <td>gg1aij</td>\n      <td>Sneakers</td>\n      <td>https://i.redd.it/lf6078tbslx41.jpg</td>\n      <td>7</td>\n      <td></td>\n      <td>1.589000e+09</td>\n    </tr>\n    <tr>\n      <th>28</th>\n      <td>Favorite Jordan 1. What's yours?</td>\n      <td>160</td>\n      <td>gftsp5</td>\n      <td>Sneakers</td>\n      <td>https://imgur.com/r54oFIC</td>\n      <td>41</td>\n      <td></td>\n      <td>1.588975e+09</td>\n    </tr>\n    <tr>\n      <th>29</th>\n      <td>THE WEEK IS LONG THE SILVER CAT FEEDS</td>\n      <td>38</td>\n      <td>gg2m7a</td>\n      <td>Sneakers</td>\n      <td>https://i.redd.it/vmbuvhpz4mx41.jpg</td>\n      <td>4</td>\n      <td></td>\n      <td>1.589004e+09</td>\n    </tr>\n    <tr>\n      <th>30</th>\n      <td>Picked up these beauties today for a cool $100</td>\n      <td>26</td>\n      <td>gg4dnu</td>\n      <td>Sneakers</td>\n      <td>https://i.imgur.com/eXGENYl.jpg</td>\n      <td>3</td>\n      <td></td>\n      <td>1.589010e+09</td>\n    </tr>\n    <tr>\n      <th>31</th>\n      <td>So today was supposed to be my graduation🤷🏽‍♂️</td>\n      <td>71</td>\n      <td>gfxs22</td>\n      <td>Sneakers</td>\n      <td>https://i.redd.it/wn71j416wkx41.jpg</td>\n      <td>16</td>\n      <td></td>\n      <td>1.588989e+09</td>\n    </tr>\n    <tr>\n      <th>32</th>\n      <td>Continuing my week of jordans</td>\n      <td>171</td>\n      <td>gfslep</td>\n      <td>Sneakers</td>\n      <td>https://i.redd.it/tf5772t5fjx41.jpg</td>\n      <td>38</td>\n      <td></td>\n      <td>1.588971e+09</td>\n    </tr>\n    <tr>\n      <th>33</th>\n      <td>My Fiancé wouldn’t stop coming in the office w...</td>\n      <td>90</td>\n      <td>gfw4f5</td>\n      <td>Sneakers</td>\n      <td>https://i.redd.it/ywnqwmmfgkx41.jpg</td>\n      <td>11</td>\n      <td></td>\n      <td>1.588983e+09</td>\n    </tr>\n    <tr>\n      <th>34</th>\n      <td>Nike AF1 shadow spruce aura (pistachio frost)</td>\n      <td>31</td>\n      <td>gg2y3c</td>\n      <td>Sneakers</td>\n      <td>https://i.redd.it/911z54n98mx41.jpg</td>\n      <td>1</td>\n      <td></td>\n      <td>1.589005e+09</td>\n    </tr>\n    <tr>\n      <th>35</th>\n      <td>New Addition. Love a restock!!!</td>\n      <td>197</td>\n      <td>gfrk0m</td>\n      <td>Sneakers</td>\n      <td>https://i.redd.it/421b70rw1jx41.jpg</td>\n      <td>35</td>\n      <td></td>\n      <td>1.588966e+09</td>\n    </tr>\n    <tr>\n      <th>36</th>\n      <td>Just came in today ;) Still waiting of Fear of...</td>\n      <td>51</td>\n      <td>gfz301</td>\n      <td>Sneakers</td>\n      <td>https://i.imgur.com/il5ZxMs.jpg</td>\n      <td>7</td>\n      <td></td>\n      <td>1.588993e+09</td>\n    </tr>\n    <tr>\n      <th>37</th>\n      <td>Tiffany.</td>\n      <td>96</td>\n      <td>gfv0hq</td>\n      <td>Sneakers</td>\n      <td>https://i.redd.it/ll401j0l5kx41.jpg</td>\n      <td>13</td>\n      <td></td>\n      <td>1.588980e+09</td>\n    </tr>\n    <tr>\n      <th>38</th>\n      <td>🐼🐦</td>\n      <td>27</td>\n      <td>gg2981</td>\n      <td>Sneakers</td>\n      <td>https://i.redd.it/fflt3plf1mx41.jpg</td>\n      <td>3</td>\n      <td></td>\n      <td>1.589003e+09</td>\n    </tr>\n    <tr>\n      <th>39</th>\n      <td>stray rats x new balance</td>\n      <td>23</td>\n      <td>gg39tv</td>\n      <td>Sneakers</td>\n      <td>https://i.redd.it/i4he7bbmbmx41.jpg</td>\n      <td>9</td>\n      <td></td>\n      <td>1.589006e+09</td>\n    </tr>\n    <tr>\n      <th>40</th>\n      <td>Don’t wear these enough</td>\n      <td>110</td>\n      <td>gftrqc</td>\n      <td>Sneakers</td>\n      <td>https://i.redd.it/ca5w06tprjx41.jpg</td>\n      <td>3</td>\n      <td></td>\n      <td>1.588975e+09</td>\n    </tr>\n    <tr>\n      <th>41</th>\n      <td>My Collection One Shoe A Day: 2011 Black Cement 3</td>\n      <td>17</td>\n      <td>gg4ubt</td>\n      <td>Sneakers</td>\n      <td>https://i.redd.it/njmedzk0smx41.jpg</td>\n      <td>1</td>\n      <td></td>\n      <td>1.589012e+09</td>\n    </tr>\n    <tr>\n      <th>42</th>\n      <td>Sub-inspired Purchase</td>\n      <td>40</td>\n      <td>gfzwoi</td>\n      <td>Sneakers</td>\n      <td>https://i.redd.it/drlr34feflx41.jpg</td>\n      <td>10</td>\n      <td></td>\n      <td>1.588995e+09</td>\n    </tr>\n    <tr>\n      <th>43</th>\n      <td>After eight weeks, the line between “working f...</td>\n      <td>68</td>\n      <td>gfx3yt</td>\n      <td>Sneakers</td>\n      <td>https://i.redd.it/pg4m56avpkx41.jpg</td>\n      <td>14</td>\n      <td></td>\n      <td>1.588987e+09</td>\n    </tr>\n    <tr>\n      <th>44</th>\n      <td>RIP to my “ rainy day funds “</td>\n      <td>26</td>\n      <td>gg2zuj</td>\n      <td>Sneakers</td>\n      <td>https://i.redd.it/51evgszr8mx41.jpg</td>\n      <td>1</td>\n      <td></td>\n      <td>1.589005e+09</td>\n    </tr>\n    <tr>\n      <th>45</th>\n      <td>the royal toes we asked for versus what we got</td>\n      <td>74</td>\n      <td>gfvlsr</td>\n      <td>Sneakers</td>\n      <td>https://i.redd.it/x6pf22iibkx41.jpg</td>\n      <td>51</td>\n      <td></td>\n      <td>1.588982e+09</td>\n    </tr>\n    <tr>\n      <th>46</th>\n      <td>Done Four the Weekend</td>\n      <td>20</td>\n      <td>gg3vn3</td>\n      <td>Sneakers</td>\n      <td>https://i.redd.it/lmdvvc1vhmx41.jpg</td>\n      <td>1</td>\n      <td></td>\n      <td>1.589008e+09</td>\n    </tr>\n    <tr>\n      <th>47</th>\n      <td>Can’t wait to wear these outside again 🌞</td>\n      <td>60</td>\n      <td>gfwfia</td>\n      <td>Sneakers</td>\n      <td>https://i.redd.it/pjoomnkfjkx41.jpg</td>\n      <td>4</td>\n      <td></td>\n      <td>1.588984e+09</td>\n    </tr>\n    <tr>\n      <th>48</th>\n      <td>Jordan x Dior</td>\n      <td>11</td>\n      <td>gg6kuh</td>\n      <td>Sneakers</td>\n      <td>https://i.redd.it/4ah4lmhwbnx41.jpg</td>\n      <td>1</td>\n      <td></td>\n      <td>1.589018e+09</td>\n    </tr>\n    <tr>\n      <th>49</th>\n      <td>Yin, Yang, Yeezy</td>\n      <td>10</td>\n      <td>gg6y06</td>\n      <td>Sneakers</td>\n      <td>https://imgur.com/PtXTBmJ</td>\n      <td>0</td>\n      <td></td>\n      <td>1.589020e+09</td>\n    </tr>\n  </tbody>\n</table>\n</div>"
     },
     "metadata": {},
     "execution_count": 25
    }
   ],
   "source": [
    "import pandas as pd\n",
    "posts = []\n",
    "sneakers_subreddit = reddit.subreddit('Sneakers')\n",
    "for post in sneakers_subreddit.hot(limit=50):\n",
    "    posts.append([post.title, post.score, post.id, post.subreddit, post.url, post.num_comments, post.selftext, post.created])\n",
    "posts = pd.DataFrame(posts,columns=['title', 'score', 'id', 'subreddit', 'url', 'num_comments', 'body', 'created'])\n",
    "posts.head(50)"
   ]
  },
  {
   "cell_type": "code",
   "execution_count": 7,
   "metadata": {},
   "outputs": [],
   "source": [
    "import os\n",
    "import urllib.request\n",
    "# urllib.request.urlretrieve(\"https://i.redd.it/z10bs05jckx41.jpg\", \"00000001.jpg\")"
   ]
  },
  {
   "cell_type": "code",
   "execution_count": 14,
   "metadata": {},
   "outputs": [
    {
     "output_type": "execute_result",
     "data": {
      "text/plain": "10"
     },
     "metadata": {},
     "execution_count": 14
    }
   ],
   "source": [
    "posts['url'][1]\n",
    "len(posts['url'])"
   ]
  },
  {
   "cell_type": "code",
   "execution_count": null,
   "metadata": {},
   "outputs": [],
   "source": [
    "# scope of the project: why is this important? could we use this to begin to see which brands and trends are on the come up?\n",
    "# drop all non-jpg rows?\n",
    "# how to link data to upvotes\n",
    "# convert date column to a readable datetime format\n",
    "# Brands to decipher: Nike, Jordan, Adidas, New_Balance\n",
    "# See if I can scrape from a certain time frame\n",
    "# ^ check to see if Reddit is OK with me querying this much data\n",
    "# "
   ]
  },
  {
   "cell_type": "code",
   "execution_count": 24,
   "metadata": {},
   "outputs": [],
   "source": [
    "# iterate through all queried posts and download the corresponding image as a jpg file\n",
    "# working on sending these images to the data folder\n",
    "\n",
    "for i in range(1, len(posts['url'])):\n",
    "    try:\n",
    "        urllib.request.urlretrieve(posts['url'][i], \"data/0000\"+str(i)+\".jpg\")\n",
    "    except:\n",
    "        pass"
   ]
  },
  {
   "cell_type": "code",
   "execution_count": null,
   "metadata": {},
   "outputs": [],
   "source": []
  }
 ],
 "metadata": {
  "language_info": {
   "codemirror_mode": {
    "name": "ipython",
    "version": 2
   },
   "file_extension": ".py",
   "mimetype": "text/x-python",
   "name": "python",
   "nbconvert_exporter": "python",
   "pygments_lexer": "ipython2",
   "version": "3.7.7-final"
  },
  "orig_nbformat": 2,
  "kernelspec": {
   "name": "python37764bithypeconda90646dda1eb242bc89cc5427358ff6c8",
   "display_name": "Python 3.7.7 64-bit ('hype': conda)"
  }
 },
 "nbformat": 4,
 "nbformat_minor": 2
}